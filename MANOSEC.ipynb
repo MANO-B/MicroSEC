{
 "cells": [
  {
   "cell_type": "raw",
   "metadata": {},
   "source": [
    "# MANOSEC: Machine-learning And Neural-network Orchestrated Sequence Error Cleaner\n",
    "# MicroSEC-based FFPE artifact predictor\n",
    "# Necessary data are following\n",
    "# A list of mutations described as genomic positions, saved as a tsv file\n",
    "# Sample            Genome   Chr    Pos       Ref   Alt\n",
    "# Patient_1_tumor   hg38     chr1   2561609   T     A  \n",
    "\n",
    "# Get neighbor 400 bases around the mutation\n",
    "\n",
    "# search 40 bases from the genome\n",
    "# the mutated base must be matched\n",
    "# Homo_sapiens.GRCh38.dna.toplevel.fa\n",
    "# blat stand alone\n",
    "# scoring\n",
    "\n",
    "# search hairpin structure\n",
    "# maximum haipin length\n",
    "# complete match is necessary\n",
    "# 5' length\n",
    "# 3' length\n",
    "# C:G and A:T counts\n",
    "\n",
    "\n",
    "# Mutation format converter program will be added\n",
    "# From\n",
    "# Sample            Gene    mRNA_change\n",
    "# Patient_1_tumor   APC     NM_0000:c.111T>C  \n",
    "# To\n",
    "# Sample            Chr    Pos       Ref   Alt\n",
    "# Patient_1_tumor   chr1   2561609   T     A  \n",
    "\n",
    "\n",
    "# https://www.bioconductor.org/packages/release/bioc/vignettes/ensembldb/inst/doc/coordinate-mapping.html\n",
    "# http://rest.ensembl.org/documentation/info/assembly_cdna"
   ]
  },
  {
   "cell_type": "code",
   "execution_count": 3,
   "metadata": {},
   "outputs": [
    {
     "name": "stdout",
     "output_type": "stream",
     "text": [
      "AGTACACTGGT\n"
     ]
    }
   ],
   "source": [
    "from Bio.Seq import Seq\n",
    "my_seq = Seq(\"AGTACACTGGT\")\n",
    "print (my_seq)"
   ]
  },
  {
   "cell_type": "code",
   "execution_count": null,
   "metadata": {},
   "outputs": [],
   "source": []
  },
  {
   "cell_type": "code",
   "execution_count": 1,
   "metadata": {},
   "outputs": [
    {
     "data": {
      "text/plain": [
       "3"
      ]
     },
     "execution_count": 1,
     "metadata": {},
     "output_type": "execute_result"
    }
   ],
   "source": [
    "3"
   ]
  },
  {
   "cell_type": "code",
   "execution_count": null,
   "metadata": {},
   "outputs": [],
   "source": []
  }
 ],
 "metadata": {
  "kernelspec": {
   "display_name": "Python 3",
   "language": "python",
   "name": "python3"
  },
  "language_info": {
   "codemirror_mode": {
    "name": "ipython",
    "version": 3
   },
   "file_extension": ".py",
   "mimetype": "text/x-python",
   "name": "python",
   "nbconvert_exporter": "python",
   "pygments_lexer": "ipython3",
   "version": "3.6.9"
  }
 },
 "nbformat": 4,
 "nbformat_minor": 4
}
