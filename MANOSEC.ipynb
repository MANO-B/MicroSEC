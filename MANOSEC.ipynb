{
 "cells": [
  {
   "cell_type": "raw",
   "metadata": {},
   "source": [
    "# MANOSEC: Machine-learning And Neural-network Orchestrated Sequence Error Cleaner\n",
    "# MicroSEC-based FFPE artifact predictor\n",
    "# Necessary data are following\n",
    "# A list of mutations described as genomic positions, saved as a tsv file\n",
    "# Sample            Genome   Chr    Pos       Ref   Alt\n",
    "# Patient_1_tumor   hg38     chr1   2561609   T     A  \n",
    "\n",
    "# Get neighbor 400 bases around the mutation\n",
    "\n",
    "# search 40 bases from the genome\n",
    "# the mutated base must be matched\n",
    "# Homo_sapiens.GRCh38.dna.toplevel.fa\n",
    "# blat stand alone\n",
    "# scoring\n",
    "\n",
    "# search hairpin structure\n",
    "# maximum haipin length\n",
    "# complete match is necessary\n",
    "# 5' length\n",
    "# 3' length\n",
    "# C:G and A:T counts\n",
    "\n",
    "\n",
    "# Mutation format converter program will be added\n",
    "# From\n",
    "# Sample            Gene    mRNA_change\n",
    "# Patient_1_tumor   APC     NM_0000:c.111T>C  \n",
    "# To\n",
    "# Sample            Chr    Pos       Ref   Alt\n",
    "# Patient_1_tumor   chr1   2561609   T     A  \n",
    "\n",
    "\n",
    "# https://www.bioconductor.org/packages/release/bioc/vignettes/ensembldb/inst/doc/coordinate-mapping.html\n",
    "# http://rest.ensembl.org/documentation/info/assembly_cdna"
   ]
  },
  {
   "cell_type": "code",
   "execution_count": 204,
   "metadata": {},
   "outputs": [
    {
     "name": "stdout",
     "output_type": "stream",
     "text": [
      "500 / 7004\n",
      "1000 / 7004\n",
      "1500 / 7004\n",
      "2000 / 7004\n",
      "2500 / 7004\n",
      "3000 / 7004\n",
      "3500 / 7004\n",
      "4000 / 7004\n",
      "4500 / 7004\n",
      "5000 / 7004\n",
      "5500 / 7004\n",
      "6000 / 7004\n",
      "6500 / 7004\n",
      "7000 / 7004\n",
      "7004 / 7004\n",
      "500 / 7004\n",
      "1000 / 7004\n",
      "1500 / 7004\n",
      "2000 / 7004\n",
      "2500 / 7004\n",
      "3000 / 7004\n",
      "3500 / 7004\n",
      "4000 / 7004\n",
      "4500 / 7004\n",
      "5000 / 7004\n",
      "5500 / 7004\n",
      "6000 / 7004\n",
      "6500 / 7004\n",
      "7000 / 7004\n",
      "7003 / 7004\n"
     ]
    }
   ],
   "source": [
    "from Bio.Seq import Seq\n",
    "from Bio import SeqIO\n",
    "from Bio import pairwise2\n",
    "from Bio.pairwise2 import format_alignment\n",
    "import pandas as pd\n",
    "import datetime\n",
    "import subprocess, sys, os\n",
    "import copy\n",
    "\n",
    "#os.system('for chr in `seq 1 22` X Y; do echo $chr; wget -qO- http://hgdownload.cse.ucsc.edu/goldenpath/hg38/chromosomes/chr$chr.fa.gz | gunzip -c - >> /mnt/HDD8TB/MicroSEC/source/hg38.fa; done')\n",
    "\n",
    "#pd.set_option('display.max_columns', 30)\n",
    "#pd.set_option('display.max_rows', 30)\n",
    "\n",
    "df = pd.read_excel(\"/mnt/HDD8TB/MicroSEC/source/MANOSEC_source.xlsx\")\n",
    "\n",
    "sort_order = ['chr1', 'chr2', 'chr3', 'chr4', 'chr5', 'chr6', 'chr7', 'chr8', 'chr9', 'chr10',\n",
    "              'chr11', 'chr12', 'chr13', 'chr14', 'chr15', 'chr16', 'chr17', 'chr18', 'chr19', 'chr20',\n",
    "              'chr21', 'chr22', 'chrX', 'chrY']\n",
    "df.Chr = pd.Categorical(df.Chr, categories = sort_order)\n",
    "df.sort_values(by=['Chr'], inplace=True)\n",
    "df = df.reset_index()\n",
    "df['palindrome'] = \"\"\n",
    "df['search_seq'] = \"\"\n",
    "df['search_hairpin'] = \"\"\n",
    "df['possible_hairpin'] = 0\n",
    "df['score_20'] = 0\n",
    "df['score_25'] = 0\n",
    "df['score_30'] = 0\n",
    "df['score_35'] = 0\n",
    "df['score_40'] = 0\n",
    "df['score_45'] = 0\n",
    "df['score_50'] = 0\n",
    "df['score_55'] = 0\n",
    "df['score_60'] = 0\n",
    "df_working = copy.deepcopy(df)\n",
    "filename_BLAT = \"/mnt/HDD8TB/MicroSEC/source/MANOSEC_BLAT_\" + str(datetime.date.today()) + \".fa\"\n",
    "f = open(filename_BLAT, 'w', encoding='UTF-8')\n",
    "records = SeqIO.parse('/mnt/HDD8TB/MicroSEC/source/hg38.fa', 'fasta')\n",
    "j = 0\n",
    "for record in records:\n",
    "    if df_working.shape[0] > 0:\n",
    "        if record.name == df_working.iloc[0].Chr:\n",
    "            df_tmp = df_working[df_working['Chr'] == df_working.iloc[0].Chr]\n",
    "            df_working = df_working[df_working['Chr'] != df_working.iloc[0].Chr]\n",
    "            for i in range(df_tmp.shape[0]):\n",
    "                if (j + 1) % 500 == 0:\n",
    "                    print(str(j + 1) + \" / \" + str(df.shape[0]))\n",
    "                ID = str(j)\n",
    "                pos_start_1 = df_tmp.iloc[i].Pos - 31\n",
    "                pos_start_2 = df_tmp.iloc[i].Pos + len(df_tmp.iloc[i].Ref) - 1\n",
    "                pos_end_1 = df_tmp.iloc[i].Pos - 1\n",
    "                pos_end_2 = df_tmp.iloc[i].Pos + len(df_tmp.iloc[i].Ref) + 29\n",
    "                seq_tmp = (str(record.seq[pos_start_1:pos_end_1]) + df_tmp.iloc[i].Alt + str(record.seq[pos_start_2:pos_end_2])).lower()\n",
    "                f.write('>' + ID + '\\n')\n",
    "                f.write(seq_tmp + '\\n')\n",
    "                df.loc[j, 'palindrome'] = (str(record.seq[pos_end_1 - 200:pos_end_1]) + df_tmp.iloc[i].Ref + str(record.seq[pos_start_2:pos_start_2 + 200])).lower()\n",
    "                df.loc[j, 'search_seq'] = (str(record.seq[pos_end_1 - 4:pos_end_1]) + df_tmp.iloc[i].Alt + str(record.seq[pos_start_2:pos_start_2 + 4])).upper()\n",
    "                df.loc[j, 'search_hairpin'] = (str(record.seq[pos_end_1 - 10:pos_end_1]) + df_tmp.iloc[i].Alt + str(record.seq[pos_start_2:pos_start_2 + 10])).upper()\n",
    "                j = j + 1\n",
    "print(str(j) + \" / \" + str(df.shape[0]))\n",
    "f.close()\n",
    "os.system('blat -stepSize=5 -repMatch=2253 -minScore=20 -minIdentity=0 /mnt/HDD8TB/MicroSEC/source/hg38.fa /mnt/HDD8TB/MicroSEC/source/MANOSEC_BLAT_2021-06-19.fa /mnt/HDD8TB/MicroSEC/source/output.pslx -out=pslx -t=dna -q=dna')\n",
    "os.system('sed \"1,5d\" /mnt/HDD8TB/MicroSEC/source/output.pslx > /mnt/HDD8TB/MicroSEC/source/output.tsv')\n",
    "\n",
    "result_BLAT = pd.read_csv('/mnt/HDD8TB/MicroSEC/source/output.tsv', delimiter='\\t', header=None)\n",
    "\n",
    "for i in range(df.shape[0]):\n",
    "    if (i + 1) % 500 == 0:\n",
    "        print(str(i + 1) + \" / \" + str(df.shape[0]))\n",
    "    df.loc[i, 'possible_hairpin'] = pairwise2.align.localms(df.loc[i,'palindrome'], str(Seq(df.loc[i,'search_hairpin']).reverse_complement()).lower(), 1, -5, -5, -1, score_only = True)\n",
    "    tmp_BLAT = result_BLAT[result_BLAT[9] == i]\n",
    "    tmp_BLAT = tmp_BLAT[tmp_BLAT[22].str.contains(df.loc[i, 'search_seq'].lower())]\n",
    "    tmp_BLAT = tmp_BLAT[tmp_BLAT[7] < 10]\n",
    "    if tmp_BLAT.shape[0] > 0:\n",
    "        for j in range(tmp_BLAT.shape[0]):\n",
    "            tmp_score = tmp_BLAT.iloc[j,12]\n",
    "            if tmp_score >= 20:\n",
    "                df.loc[i, 'score_20'] = df.loc[i, 'score_20'] + 1\n",
    "            if tmp_score >= 25:\n",
    "                df.loc[i, 'score_25'] = df.loc[i, 'score_25'] + 1\n",
    "            if tmp_score >= 30:\n",
    "                df.loc[i, 'score_30'] = df.loc[i, 'score_30'] + 1\n",
    "            if tmp_score >= 35:\n",
    "                df.loc[i, 'score_35'] = df.loc[i, 'score_35'] + 1\n",
    "            if tmp_score >= 40:\n",
    "                df.loc[i, 'score_40'] = df.loc[i, 'score_40'] + 1\n",
    "            if tmp_score >= 45:\n",
    "                df.loc[i, 'score_45'] = df.loc[i, 'score_45'] + 1\n",
    "            if tmp_score >= 50:\n",
    "                df.loc[i, 'score_50'] = df.loc[i, 'score_50'] + 1\n",
    "            if tmp_score >= 55:\n",
    "                df.loc[i, 'score_55'] = df.loc[i, 'score_55'] + 1\n",
    "            if tmp_score >= 60:\n",
    "                df.loc[i, 'score_60'] = df.loc[i, 'score_60'] + 1\n",
    "print(str(i + 1) + \" / \" + str(df.shape[0]))\n",
    "\n",
    "df.to_excel('/mnt/HDD8TB/MicroSEC/source/MANOSEC_processe.xlsx')"
   ]
  },
  {
   "cell_type": "code",
   "execution_count": 217,
   "metadata": {},
   "outputs": [
    {
     "name": "stdout",
     "output_type": "stream",
     "text": [
      "500 / 7004\n",
      "1000 / 7004\n",
      "1500 / 7004\n",
      "2000 / 7004\n",
      "2500 / 7004\n",
      "3000 / 7004\n",
      "3500 / 7004\n",
      "4000 / 7004\n",
      "4500 / 7004\n",
      "5000 / 7004\n",
      "5500 / 7004\n",
      "6000 / 7004\n",
      "6500 / 7004\n",
      "7000 / 7004\n",
      "7004 / 7004\n"
     ]
    }
   ],
   "source": [
    "df['possible_hairpin'] = 0\n",
    "df['score_20'] = 0\n",
    "df['score_25'] = 0\n",
    "df['score_30'] = 0\n",
    "df['score_35'] = 0\n",
    "df['score_40'] = 0\n",
    "df['score_45'] = 0\n",
    "df['score_50'] = 0\n",
    "df['score_55'] = 0\n",
    "df['score_60'] = 0\n",
    "for i in range(df.shape[0]):\n",
    "    if (i + 1) % 500 == 0:\n",
    "        print(str(i + 1) + \" / \" + str(df.shape[0]))\n",
    "    df.loc[i, 'possible_hairpin'] = pairwise2.align.localms(df.loc[i,'palindrome'], str(Seq(df.loc[i,'search_hairpin']).reverse_complement()).lower(), 1, -5, -5, -1, score_only = True)\n",
    "    tmp_BLAT = result_BLAT[result_BLAT[9] == i]\n",
    "    tmp_BLAT = tmp_BLAT[tmp_BLAT[22].str.contains(df.loc[i, 'search_seq'].lower())]\n",
    "    tmp_BLAT = tmp_BLAT[tmp_BLAT[7] < 10]\n",
    "    if tmp_BLAT.shape[0] > 0:\n",
    "        for j in range(tmp_BLAT.shape[0]):\n",
    "            tmp_score = tmp_BLAT.iloc[j,12]\n",
    "            if tmp_score >= 20:\n",
    "                df.loc[i, 'score_20'] = df.loc[i, 'score_20'] + 1\n",
    "            if tmp_score >= 25:\n",
    "                df.loc[i, 'score_25'] = df.loc[i, 'score_25'] + 1\n",
    "            if tmp_score >= 30:\n",
    "                df.loc[i, 'score_30'] = df.loc[i, 'score_30'] + 1\n",
    "            if tmp_score >= 35:\n",
    "                df.loc[i, 'score_35'] = df.loc[i, 'score_35'] + 1\n",
    "            if tmp_score >= 40:\n",
    "                df.loc[i, 'score_40'] = df.loc[i, 'score_40'] + 1\n",
    "            if tmp_score >= 45:\n",
    "                df.loc[i, 'score_45'] = df.loc[i, 'score_45'] + 1\n",
    "            if tmp_score >= 50:\n",
    "                df.loc[i, 'score_50'] = df.loc[i, 'score_50'] + 1\n",
    "            if tmp_score >= 55:\n",
    "                df.loc[i, 'score_55'] = df.loc[i, 'score_55'] + 1\n",
    "            if tmp_score >= 60:\n",
    "                df.loc[i, 'score_60'] = df.loc[i, 'score_60'] + 1\n",
    "print(str(i + 1) + \" / \" + str(df.shape[0]))\n",
    "\n",
    "df.to_excel('/mnt/HDD8TB/MicroSEC/source/MANOSEC_processe.xlsx')"
   ]
  },
  {
   "cell_type": "code",
   "execution_count": 252,
   "metadata": {},
   "outputs": [],
   "source": [
    "X = df.loc[:, (\"%Alt\", \"possible_hairpin\", \"score_20\", \"score_25\", \"score_30\", \"score_35\", \"score_40\", \"score_45\", \"score_50\", \"score_55\", \"score_60\")]\n",
    "X[\"SNV\"] = df.loc[:, (\"Mut_type\")].str.contains(\"snv\").astype(int)\n",
    "X[\"DEL\"] = df.loc[:, (\"Mut_type\")].str.contains(\"del\").astype(int)\n",
    "X[\"INS\"] = df.loc[:, (\"Mut_type\")].str.contains(\"ins\").astype(int)\n",
    "X[\"bases\"] = df.loc[:, (\"Mut_type\")].str.split(\"-\", expand=True)[0].astype(int)\n",
    "\n",
    "y = (df.loc[:, \"msec_filter_1234\"]).astype(int)"
   ]
  },
  {
   "cell_type": "code",
   "execution_count": 253,
   "metadata": {},
   "outputs": [
    {
     "name": "stderr",
     "output_type": "stream",
     "text": [
      "/usr/local/lib/python3.6/dist-packages/sklearn/linear_model/logistic.py:433: FutureWarning: Default solver will be changed to 'lbfgs' in 0.22. Specify a solver to silence this warning.\n",
      "  FutureWarning)\n",
      "/usr/local/lib/python3.6/dist-packages/sklearn/linear_model/logistic.py:433: FutureWarning: Default solver will be changed to 'lbfgs' in 0.22. Specify a solver to silence this warning.\n",
      "  FutureWarning)\n"
     ]
    },
    {
     "data": {
      "text/plain": [
       "0.04105111997341737"
      ]
     },
     "execution_count": 253,
     "metadata": {},
     "output_type": "execute_result"
    }
   ],
   "source": [
    "# 訓練データとテストデータに分割するメソッドのインポート\n",
    "from sklearn.model_selection import train_test_split \n",
    "# 訓練データ・テストデータへ6:4の比でランダムに分割\n",
    "X_train, X_test, y_train, y_test = train_test_split(X, y, test_size=.4) \n",
    "from sklearn.linear_model import LogisticRegression # ロジスティック回帰\n",
    "classifier = LogisticRegression() # 分類器の生成\n",
    "classifier.fit(X_train, y_train) #学習\n",
    "import timeit # 実行時間を計測するためのライブラリ\n",
    "timeit.timeit(lambda: classifier.fit(X_train, y_train), number=1)"
   ]
  },
  {
   "cell_type": "code",
   "execution_count": 254,
   "metadata": {},
   "outputs": [
    {
     "data": {
      "text/plain": [
       "0.9381247025226083"
      ]
     },
     "execution_count": 254,
     "metadata": {},
     "output_type": "execute_result"
    }
   ],
   "source": [
    "classifier.score(X_train,y_train)"
   ]
  },
  {
   "cell_type": "code",
   "execution_count": 255,
   "metadata": {},
   "outputs": [
    {
     "data": {
      "text/plain": [
       "0.9403997144896502"
      ]
     },
     "execution_count": 255,
     "metadata": {},
     "output_type": "execute_result"
    }
   ],
   "source": [
    "classifier.score(X_test,y_test)"
   ]
  },
  {
   "cell_type": "code",
   "execution_count": 256,
   "metadata": {},
   "outputs": [],
   "source": [
    "y_pred = classifier.predict(X_test)"
   ]
  },
  {
   "cell_type": "code",
   "execution_count": 257,
   "metadata": {},
   "outputs": [
    {
     "data": {
      "text/html": [
       "<div>\n",
       "<style scoped>\n",
       "    .dataframe tbody tr th:only-of-type {\n",
       "        vertical-align: middle;\n",
       "    }\n",
       "\n",
       "    .dataframe tbody tr th {\n",
       "        vertical-align: top;\n",
       "    }\n",
       "\n",
       "    .dataframe thead th {\n",
       "        text-align: right;\n",
       "    }\n",
       "</style>\n",
       "<table border=\"1\" class=\"dataframe\">\n",
       "  <thead>\n",
       "    <tr style=\"text-align: right;\">\n",
       "      <th></th>\n",
       "      <th>real 0</th>\n",
       "      <th>real 1</th>\n",
       "    </tr>\n",
       "  </thead>\n",
       "  <tbody>\n",
       "    <tr>\n",
       "      <th>predicted 0</th>\n",
       "      <td>1812</td>\n",
       "      <td>127</td>\n",
       "    </tr>\n",
       "    <tr>\n",
       "      <th>predicted 1</th>\n",
       "      <td>40</td>\n",
       "      <td>823</td>\n",
       "    </tr>\n",
       "  </tbody>\n",
       "</table>\n",
       "</div>"
      ],
      "text/plain": [
       "             real 0  real 1\n",
       "predicted 0    1812     127\n",
       "predicted 1      40     823"
      ]
     },
     "execution_count": 257,
     "metadata": {},
     "output_type": "execute_result"
    }
   ],
   "source": [
    "from sklearn.metrics import confusion_matrix # 混同行列を計算するメソッド\n",
    "# 予測結果と、正解（本当の答え）がどのくらい合っていたかを表す混同行列\n",
    "pd.DataFrame(confusion_matrix(y_pred, y_test), \n",
    "             index=['predicted 0', 'predicted 1'], columns=['real 0', 'real 1'])"
   ]
  },
  {
   "cell_type": "code",
   "execution_count": 258,
   "metadata": {},
   "outputs": [],
   "source": [
    "y_proba = classifier.predict_proba(X_test)"
   ]
  },
  {
   "cell_type": "code",
   "execution_count": 259,
   "metadata": {},
   "outputs": [],
   "source": [
    "import matplotlib.pyplot as plt\n",
    "%matplotlib inline"
   ]
  },
  {
   "cell_type": "code",
   "execution_count": 260,
   "metadata": {},
   "outputs": [
    {
     "name": "stdout",
     "output_type": "stream",
     "text": [
      "AUC curve : 0.969847\n"
     ]
    },
    {
     "data": {
      "image/png": "[encoded data removed]",
      "text/plain": [
       "<Figure size 288x288 with 1 Axes>"
      ]
     },
     "metadata": {
      "needs_background": "light"
     },
     "output_type": "display_data"
    }
   ],
   "source": [
    "from sklearn.metrics import roc_curve\n",
    "from sklearn.metrics import auc\n",
    "\n",
    "# AUCスコアを出す\n",
    "fpr, tpr, thresholds = roc_curve(y_test, y_proba[:, 1])\n",
    "roc_auc = auc(fpr, tpr)\n",
    "print (\"AUC curve : %f\" % roc_auc)\n",
    "\n",
    "# ROC curve を描く\n",
    "plt.figure(figsize=(4,4))\n",
    "plt.plot(fpr, tpr, label='ROC curve (area = %0.2f)' % roc_auc)\n",
    "plt.plot([0, 1], [0, 1], 'k--')\n",
    "plt.xlim([0.0, 1.0])\n",
    "plt.ylim([0.0, 1.0])\n",
    "plt.xlabel('False Positive Rate')\n",
    "plt.ylabel('True Positive Rate')\n",
    "plt.title('ROC curve: AUC=%0.2f' % roc_auc)\n",
    "plt.legend(loc=\"lower right\")\n",
    "plt.show()"
   ]
  },
  {
   "cell_type": "code",
   "execution_count": 264,
   "metadata": {},
   "outputs": [
    {
     "name": "stderr",
     "output_type": "stream",
     "text": [
      "/usr/local/lib/python3.6/dist-packages/sklearn/ensemble/forest.py:246: FutureWarning: The default value of n_estimators will change from 10 in version 0.20 to 100 in 0.22.\n",
      "  \"10 in version 0.20 to 100 in 0.22.\", FutureWarning)\n",
      "[Parallel(n_jobs=-1)]: Using backend ThreadingBackend with 36 concurrent workers.\n",
      "[Parallel(n_jobs=-1)]: Done   5 out of  10 | elapsed:    0.1s remaining:    0.1s\n",
      "[Parallel(n_jobs=-1)]: Done  10 out of  10 | elapsed:    0.1s finished\n"
     ]
    },
    {
     "data": {
      "text/plain": [
       "RandomForestClassifier(bootstrap=True, class_weight=None, criterion='gini',\n",
       "            max_depth=None, max_features='auto', max_leaf_nodes=None,\n",
       "            min_impurity_decrease=0.0, min_impurity_split=None,\n",
       "            min_samples_leaf=1, min_samples_split=2,\n",
       "            min_weight_fraction_leaf=0.0, n_estimators=10, n_jobs=-1,\n",
       "            oob_score=False, random_state=2525, verbose=True,\n",
       "            warm_start=False)"
      ]
     },
     "execution_count": 264,
     "metadata": {},
     "output_type": "execute_result"
    }
   ],
   "source": [
    "from sklearn import datasets\n",
    "import numpy as np\n",
    "import matplotlib.pyplot as plt\n",
    "from sklearn.ensemble import RandomForestClassifier as RFC\n",
    " \n",
    "from sklearn.model_selection import train_test_split, GridSearchCV\n",
    "train_images, test_images, train_labels, test_labels = train_test_split(X, y, test_size=0.2)\n",
    "clf = RFC(verbose=True,       # 学習中にログを表示します。この指定はなくてもOK\n",
    "          n_jobs=-1,          # 複数のCPUコアを使って並列に学習します。-1は最大値。\n",
    "          random_state=2525)  # 乱数のシードです。\n",
    "clf.fit(train_images, train_labels)"
   ]
  },
  {
   "cell_type": "code",
   "execution_count": 265,
   "metadata": {},
   "outputs": [
    {
     "name": "stdout",
     "output_type": "stream",
     "text": [
      "acc: 0.947180585296217\n"
     ]
    },
    {
     "name": "stderr",
     "output_type": "stream",
     "text": [
      "[Parallel(n_jobs=10)]: Using backend ThreadingBackend with 10 concurrent workers.\n",
      "[Parallel(n_jobs=10)]: Done   2 out of  10 | elapsed:    0.0s remaining:    0.0s\n",
      "[Parallel(n_jobs=10)]: Done  10 out of  10 | elapsed:    0.0s finished\n"
     ]
    }
   ],
   "source": [
    "print(f\"acc: {clf.score(test_images, test_labels)}\")"
   ]
  },
  {
   "cell_type": "code",
   "execution_count": 267,
   "metadata": {},
   "outputs": [
    {
     "name": "stdout",
     "output_type": "stream",
     "text": [
      "Fitting 3 folds for each of 2100 candidates, totalling 6300 fits\n"
     ]
    },
    {
     "name": "stderr",
     "output_type": "stream",
     "text": [
      "[Parallel(n_jobs=-1)]: Using backend LokyBackend with 36 concurrent workers.\n",
      "[Parallel(n_jobs=-1)]: Done 128 tasks      | elapsed:    2.9s\n",
      "[Parallel(n_jobs=-1)]: Done 378 tasks      | elapsed:    4.4s\n",
      "[Parallel(n_jobs=-1)]: Done 728 tasks      | elapsed:    7.0s\n",
      "[Parallel(n_jobs=-1)]: Done 1178 tasks      | elapsed:   10.5s\n",
      "[Parallel(n_jobs=-1)]: Done 1728 tasks      | elapsed:   15.3s\n",
      "[Parallel(n_jobs=-1)]: Done 2378 tasks      | elapsed:   22.0s\n",
      "[Parallel(n_jobs=-1)]: Done 3128 tasks      | elapsed:   30.3s\n",
      "[Parallel(n_jobs=-1)]: Done 3978 tasks      | elapsed:   39.2s\n",
      "[Parallel(n_jobs=-1)]: Done 4928 tasks      | elapsed:   49.0s\n",
      "[Parallel(n_jobs=-1)]: Done 5978 tasks      | elapsed:  1.0min\n"
     ]
    },
    {
     "name": "stdout",
     "output_type": "stream",
     "text": [
      "RandomForestClassifier(bootstrap=True, class_weight=None, criterion='gini',\n",
      "            max_depth=10, max_features=3, max_leaf_nodes=None,\n",
      "            min_impurity_decrease=0.0, min_impurity_split=None,\n",
      "            min_samples_leaf=1, min_samples_split=30,\n",
      "            min_weight_fraction_leaf=0.0, n_estimators=20, n_jobs=1,\n",
      "            oob_score=False, random_state=2525, verbose=0,\n",
      "            warm_start=False)\n"
     ]
    },
    {
     "name": "stderr",
     "output_type": "stream",
     "text": [
      "[Parallel(n_jobs=-1)]: Done 6300 out of 6300 | elapsed:  1.1min finished\n"
     ]
    }
   ],
   "source": [
    "search_params = {\n",
    "     'n_estimators'      : [5, 10, 20, 30, 50, 100, 300],\n",
    "      'max_features'      : [3, 5, 10],\n",
    "      'random_state'      : [2525],\n",
    "      'n_jobs'            : [1],\n",
    "      'min_samples_split' : [3, 5, 10, 15, 20, 25, 30, 40, 50, 100],\n",
    "      'max_depth'         : [3, 5, 10, 15, 20, 25, 30, 40, 50, 100]\n",
    "}\n",
    "\n",
    "gs = GridSearchCV(RFC(),           # 対象の機械学習モデル\n",
    "                  search_params,   # 探索パラメタ辞書\n",
    "                  cv=3,            # クロスバリデーションの分割数\n",
    "                  verbose=True,    # ログ表示\n",
    "                  n_jobs=-1)       # 並列処理\n",
    "gs.fit(train_images, train_labels)\n",
    " \n",
    "print(gs.best_estimator_)"
   ]
  },
  {
   "cell_type": "code",
   "execution_count": 268,
   "metadata": {},
   "outputs": [
    {
     "name": "stdout",
     "output_type": "stream",
     "text": [
      "acc: 0.9578872234118487\n"
     ]
    }
   ],
   "source": [
    "print(f\"acc: {gs.score(test_images, test_labels)}\")"
   ]
  },
  {
   "cell_type": "code",
   "execution_count": 270,
   "metadata": {},
   "outputs": [
    {
     "name": "stdout",
     "output_type": "stream",
     "text": [
      "AUC curve : 0.980966\n"
     ]
    },
    {
     "data": {
      "image/png": "[encoded data removed]",
      "text/plain": [
       "<Figure size 288x288 with 1 Axes>"
      ]
     },
     "metadata": {
      "needs_background": "light"
     },
     "output_type": "display_data"
    }
   ],
   "source": [
    "y_proba = gs.predict_proba(test_images)\n",
    "from sklearn.metrics import roc_curve\n",
    "from sklearn.metrics import auc\n",
    "\n",
    "# AUCスコアを出す\n",
    "fpr, tpr, thresholds = roc_curve(test_labels, y_proba[:, 1])\n",
    "roc_auc = auc(fpr, tpr)\n",
    "print (\"AUC curve : %f\" % roc_auc)\n",
    "\n",
    "# ROC curve を描く\n",
    "plt.figure(figsize=(4,4))\n",
    "plt.plot(fpr, tpr, label='ROC curve (area = %0.2f)' % roc_auc)\n",
    "plt.plot([0, 1], [0, 1], 'k--')\n",
    "plt.xlim([0.0, 1.0])\n",
    "plt.ylim([0.0, 1.0])\n",
    "plt.xlabel('False Positive Rate')\n",
    "plt.ylabel('True Positive Rate')\n",
    "plt.title('ROC curve: AUC=%0.2f' % roc_auc)\n",
    "plt.legend(loc=\"lower right\")\n",
    "plt.show()"
   ]
  },
  {
   "cell_type": "code",
   "execution_count": null,
   "metadata": {},
   "outputs": [],
   "source": []
  }
 ],
 "metadata": {
  "kernelspec": {
   "display_name": "Python 3",
   "language": "python",
   "name": "python3"
  },
  "language_info": {
   "codemirror_mode": {
    "name": "ipython",
    "version": 3
   },
   "file_extension": ".py",
   "mimetype": "text/x-python",
   "name": "python",
   "nbconvert_exporter": "python",
   "pygments_lexer": "ipython3",
   "version": "3.6.9"
  }
 },
 "nbformat": 4,
 "nbformat_minor": 4
}
